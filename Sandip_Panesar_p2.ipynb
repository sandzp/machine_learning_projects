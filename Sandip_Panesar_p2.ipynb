{
 "cells": [
  {
   "cell_type": "markdown",
   "metadata": {
    "colab_type": "text",
    "id": "6t55qCf3Fsxa"
   },
   "source": [
    "# Project 2: Topic Classification"
   ]
  },
  {
   "cell_type": "markdown",
   "metadata": {
    "colab_type": "text",
    "id": "j9-9G8z4Fsxd"
   },
   "source": [
    "In this project, you'll work with text data from newsgroup posts on a variety of topics. You'll train classifiers to distinguish posts by topics inferred from the text. Whereas with digit classification, where each input is relatively dense (represented as a 28x28 matrix of pixels, many of which are non-zero), here each document is relatively sparse (represented as a bag-of-words). Only a few words of the total vocabulary are active in any given document. The assumption is that a label depends only on the count of words, not their order.\n",
    "\n",
    "The `sklearn` documentation on feature extraction may be useful:\n",
    "http://scikit-learn.org/stable/modules/feature_extraction.html\n",
    "\n",
    "Each problem can be addressed succinctly with the included packages -- please don't add any more. Grading will be based on writing clean, commented code, along with a few short answers.\n",
    "\n",
    "As always, you're welcome to work on the project in groups and discuss ideas on Slack, but <b> please prepare your own write-up with your own code. </b>"
   ]
  },
  {
   "cell_type": "code",
   "execution_count": 1,
   "metadata": {
    "colab": {},
    "colab_type": "code",
    "id": "AUYW83LqFsxd"
   },
   "outputs": [],
   "source": [
    "# This tells matplotlib not to try opening a new window for each plot.\n",
    "%matplotlib inline\n",
    "\n",
    "# General libraries.\n",
    "import re\n",
    "import numpy as np\n",
    "import matplotlib.pyplot as plt\n",
    "\n",
    "# SK-learn libraries for learning.\n",
    "from sklearn.pipeline import Pipeline\n",
    "from sklearn.neighbors import KNeighborsClassifier\n",
    "from sklearn.linear_model import LogisticRegression\n",
    "from sklearn.naive_bayes import BernoulliNB\n",
    "from sklearn.naive_bayes import MultinomialNB\n",
    "\n",
    "# SK-learn libraries for evaluation.\n",
    "from sklearn.metrics import confusion_matrix\n",
    "from sklearn import metrics\n",
    "from sklearn.metrics import classification_report\n",
    "\n",
    "# SK-learn library for importing the newsgroup data.\n",
    "from sklearn.datasets import fetch_20newsgroups\n",
    "\n",
    "# SK-learn libraries for feature extraction from text.\n",
    "from sklearn.feature_extraction.text import *\n",
    "\n",
    "import nltk"
   ]
  },
  {
   "cell_type": "markdown",
   "metadata": {
    "colab_type": "text",
    "id": "_ALNjGgCFsxg"
   },
   "source": [
    "Load the data, stripping out metadata so that only textual features will be used, and restricting documents to 4 specific topics. By default, newsgroups data is split into training and test sets, but here the test set gets further split into development and test sets.  (If you remove the categories argument from the fetch function calls, you'd get documents from all 20 topics.)"
   ]
  },
  {
   "cell_type": "code",
   "execution_count": 2,
   "metadata": {
    "colab": {},
    "colab_type": "code",
    "id": "ecYpcoxaFsxh"
   },
   "outputs": [
    {
     "name": "stdout",
     "output_type": "stream",
     "text": [
      "training label shape: (2034,)\n",
      "dev label shape: (676,)\n",
      "test label shape: (677,)\n",
      "labels names: ['alt.atheism', 'comp.graphics', 'sci.space', 'talk.religion.misc']\n"
     ]
    }
   ],
   "source": [
    "categories = ['alt.atheism', 'talk.religion.misc', 'comp.graphics', 'sci.space']\n",
    "newsgroups_train = fetch_20newsgroups(subset='train',\n",
    "                                      remove=('headers', 'footers', 'quotes'),\n",
    "                                      categories=categories)\n",
    "newsgroups_test  = fetch_20newsgroups(subset='test',\n",
    "                                      remove=('headers', 'footers', 'quotes'),\n",
    "                                      categories=categories)\n",
    "\n",
    "num_test = int(len(newsgroups_test.target) / 2)\n",
    "test_data, test_labels   = newsgroups_test.data[num_test:], newsgroups_test.target[num_test:]\n",
    "dev_data, dev_labels     = newsgroups_test.data[:num_test], newsgroups_test.target[:num_test]\n",
    "train_data, train_labels = newsgroups_train.data, newsgroups_train.target\n",
    "\n",
    "print('training label shape:', train_labels.shape)\n",
    "print('dev label shape:',      dev_labels.shape)\n",
    "print('test label shape:',     test_labels.shape)\n",
    "print('labels names:',         newsgroups_train.target_names)"
   ]
  },
  {
   "cell_type": "markdown",
   "metadata": {
    "colab_type": "text",
    "id": "OHTnOke6Fsxk"
   },
   "source": [
    "### Part 1:\n",
    "\n",
    "For each of the first 5 training examples, print the text of the message along with the label."
   ]
  },
  {
   "cell_type": "code",
   "execution_count": 3,
   "metadata": {
    "colab": {},
    "colab_type": "code",
    "id": "X8zhA06xFsxl"
   },
   "outputs": [],
   "source": [
    "# Modded the function parameters to incorporate various datasets and labels.\n",
    "def P1(num_examples, dataset, labels):\n",
    "    for a in range(num_examples):\n",
    "        print(\"Topic Label:\", labels[a])\n",
    "        print (\"\")\n",
    "        print(\"Training Example:\")\n",
    "        print(\"\")\n",
    "        print(dataset[a])\n",
    "        print(\"----------------------------------------------------------------------\")\n",
    "    return"
   ]
  },
  {
   "cell_type": "code",
   "execution_count": 4,
   "metadata": {},
   "outputs": [
    {
     "name": "stdout",
     "output_type": "stream",
     "text": [
      "Topic Label: 1\n",
      "\n",
      "Training Example:\n",
      "\n",
      "Hi,\n",
      "\n",
      "I've noticed that if you only save a model (with all your mapping planes\n",
      "positioned carefully) to a .3DS file that when you reload it after restarting\n",
      "3DS, they are given a default position and orientation.  But if you save\n",
      "to a .PRJ file their positions/orientation are preserved.  Does anyone\n",
      "know why this information is not stored in the .3DS file?  Nothing is\n",
      "explicitly said in the manual about saving texture rules in the .PRJ file. \n",
      "I'd like to be able to read the texture rule information, does anyone have \n",
      "the format for the .PRJ file?\n",
      "\n",
      "Is the .CEL file format available from somewhere?\n",
      "\n",
      "Rych\n",
      "----------------------------------------------------------------------\n",
      "Topic Label: 3\n",
      "\n",
      "Training Example:\n",
      "\n",
      "\n",
      "\n",
      "Seems to be, barring evidence to the contrary, that Koresh was simply\n",
      "another deranged fanatic who thought it neccessary to take a whole bunch of\n",
      "folks with him, children and all, to satisfy his delusional mania. Jim\n",
      "Jones, circa 1993.\n",
      "\n",
      "\n",
      "Nope - fruitcakes like Koresh have been demonstrating such evil corruption\n",
      "for centuries.\n",
      "----------------------------------------------------------------------\n",
      "Topic Label: 2\n",
      "\n",
      "Training Example:\n",
      "\n",
      "\n",
      " >In article <1993Apr19.020359.26996@sq.sq.com>, msb@sq.sq.com (Mark Brader) \n",
      "\n",
      "MB>                                                             So the\n",
      "MB> 1970 figure seems unlikely to actually be anything but a perijove.\n",
      "\n",
      "JG>Sorry, _perijoves_...I'm not used to talking this language.\n",
      "\n",
      "Couldn't we just say periapsis or apoapsis?\n",
      "\n",
      " \n",
      "----------------------------------------------------------------------\n",
      "Topic Label: 0\n",
      "\n",
      "Training Example:\n",
      "\n",
      "I have a request for those who would like to see Charley Wingate\n",
      "respond to the \"Charley Challenges\" (and judging from my e-mail, there\n",
      "appear to be quite a few of you.)  \n",
      "\n",
      "It is clear that Mr. Wingate intends to continue to post tangential or\n",
      "unrelated articles while ingoring the Challenges themselves.  Between\n",
      "the last two re-postings of the Challenges, I noted perhaps a dozen or\n",
      "more posts by Mr. Wingate, none of which answered a single Challenge.  \n",
      "\n",
      "It seems unmistakable to me that Mr. Wingate hopes that the questions\n",
      "will just go away, and he is doing his level best to change the\n",
      "subject.  Given that this seems a rather common net.theist tactic, I\n",
      "would like to suggest that we impress upon him our desire for answers,\n",
      "in the following manner:\n",
      "\n",
      "1. Ignore any future articles by Mr. Wingate that do not address the\n",
      "Challenges, until he answers them or explictly announces that he\n",
      "refuses to do so.\n",
      "\n",
      "--or--\n",
      "\n",
      "2. If you must respond to one of his articles, include within it\n",
      "something similar to the following:\n",
      "\n",
      "    \"Please answer the questions posed to you in the Charley Challenges.\"\n",
      "\n",
      "Really, I'm not looking to humiliate anyone here, I just want some\n",
      "honest answers.  You wouldn't think that honesty would be too much to\n",
      "ask from a devout Christian, would you?  \n",
      "\n",
      "Nevermind, that was a rhetorical question.\n",
      "----------------------------------------------------------------------\n",
      "Topic Label: 2\n",
      "\n",
      "Training Example:\n",
      "\n",
      "AW&ST  had a brief blurb on a Manned Lunar Exploration confernce\n",
      "May 7th  at Crystal City Virginia, under the auspices of AIAA.\n",
      "\n",
      "Does anyone know more about this?  How much, to attend????\n",
      "\n",
      "Anyone want to go?\n",
      "----------------------------------------------------------------------\n"
     ]
    }
   ],
   "source": [
    "P1(5, train_data, train_labels)"
   ]
  },
  {
   "cell_type": "markdown",
   "metadata": {
    "colab_type": "text",
    "id": "onfno6uHFsxm"
   },
   "source": [
    "### Part 2:\n",
    "\n",
    "Transform the training data into a matrix of **word** unigram feature vectors.  What is the size of the vocabulary? What is the average number of non-zero features per example?  What is the fraction of the non-zero entries in the matrix?  What are the 0th and last feature strings (in alphabetical order)?<br/>\n",
    "_Use `CountVectorization` and its `.fit_transform` method.  Use `.nnz` and `.shape` attributes, and `.get_feature_names` method._\n",
    "\n",
    "Now transform the training data into a matrix of **word** unigram feature vectors using your own vocabulary with these 4 words: [\"atheism\", \"graphics\", \"space\", \"religion\"].  Confirm the size of the vocabulary. What is the average number of non-zero features per example?<br/>\n",
    "_Use `CountVectorization(vocabulary=...)` and its `.transform` method._\n",
    "\n",
    "Now transform the training data into a matrix of **character** bigram and trigram feature vectors.  What is the size of the vocabulary?<br/>\n",
    "_Use `CountVectorization(analyzer=..., ngram_range=...)` and its `.fit_transform` method._\n",
    "\n",
    "Now transform the training data into a matrix of **word** unigram feature vectors and prune words that appear in fewer than 10 documents.  What is the size of the vocabulary?<br/>\n",
    "_Use `CountVectorization(min_df=...)` and its `.fit_transform` method._\n",
    "\n",
    "Now again transform the training data into a matrix of **word** unigram feature vectors. What is the fraction of words in the development vocabulary that is missing from the training vocabulary?<br/>\n",
    "_Hint: Build vocabularies for both train and dev and look at the size of the difference._\n",
    "\n",
    "Notes:\n",
    "* `.fit_transform` makes 2 passes through the data: first it computes the vocabulary (\"fit\"), second it converts the raw text into feature vectors using the vocabulary (\"transform\").\n",
    "* `.fit_transform` and `.transform` return sparse matrix objects.  See about them at http://docs.scipy.org/doc/scipy-0.14.0/reference/generated/scipy.sparse.csr_matrix.html.  "
   ]
  },
  {
   "cell_type": "code",
   "execution_count": 5,
   "metadata": {},
   "outputs": [],
   "source": [
    "# I decided rather than just return the first and last features from the bag of words to actually return the list\n",
    "# of words (features) that were associated with each training sample. \n",
    "\n",
    "# Return alphabetized feature string for any vector and any index:\n",
    "def return_string(position, index_list, bow):\n",
    "    output_list = []\n",
    "    rows, cols = index_list[position].nonzero()\n",
    "    for index in cols:\n",
    "        output_list.append(bow[index])\n",
    "    print(sorted(output_list))\n",
    "    return"
   ]
  },
  {
   "cell_type": "code",
   "execution_count": 75,
   "metadata": {
    "colab": {},
    "colab_type": "code",
    "id": "LyVwk5RvFsxn"
   },
   "outputs": [],
   "source": [
    "# First part:\n",
    "def P2_1(dataset):\n",
    "    vec = CountVectorizer(input = 'content', binary = False, ngram_range = (1,1))\n",
    "    vec_fit = vec.fit_transform(dataset)\n",
    "    examples, words = vec_fit.shape\n",
    "    print(\"The size of the vocabulary is:\", words)\n",
    "    print(\"The average number of non-zero features per example is:\", round(vec_fit.nnz/examples, 2))\n",
    "    print(\"The fraction of non-zero entries in the matrix is:\", round(vec_fit.nnz/(examples*words), 5))\n",
    "    print(\"The first feature string is: {}\".format(vec.get_feature_names()[0]))\n",
    "    print(\"The last feature string is: {}\".format(vec.get_feature_names()[-1]))\n",
    "    return \n",
    "\n",
    "# Second part:\n",
    "def P2_2(dataset, vocab):\n",
    "    vec = CountVectorizer(input = 'content', vocabulary = vocab, binary = False, ngram_range = (1,1))\n",
    "    vec_fit = vec.fit_transform(dataset)\n",
    "    examples, words = vec_fit.shape\n",
    "    print(\"The size of the vocabulary is:\", words)\n",
    "    print(\"The average number of non-zero features per example is:\", round(vec_fit.nnz/examples, 2))\n",
    "    return\n",
    "    \n",
    "# Third part:\n",
    "def P2_3(dataset):\n",
    "    vec = CountVectorizer(input = 'content', analyzer='char', binary = False, ngram_range = (2,3))\n",
    "    vec_fit = vec.fit_transform(dataset)\n",
    "    examples, words = vec_fit.shape\n",
    "    print(\"The size of the vocabulary is:\", words)\n",
    "    print(\"The average number of non-zero features per example is:\", round(vec_fit.nnz/examples, 2))\n",
    "    return\n",
    "\n",
    "# Fourth part:\n",
    "def P2_4(dataset):\n",
    "    vec = CountVectorizer(input = 'content', min_df=10, binary = False, ngram_range = (1,1))\n",
    "    vec_fit = vec.fit_transform(dataset)\n",
    "    examples, words = vec_fit.shape\n",
    "    print(\"The size of the vocabulary is:\", words)\n",
    "    print(\"The average number of non-zero features per example is:\", round(vec_fit.nnz/examples, 2))\n",
    "    return\n",
    "\n",
    "# Fifth part:\n",
    "def P2_5(train_dataset, test_dataset):\n",
    "    vec1 = CountVectorizer(input = 'content', binary = False, ngram_range = (1,1))\n",
    "    vec_train_fit = vec1.fit_transform(train_dataset)\n",
    "    vec2 = CountVectorizer(input = 'content', binary = False, ngram_range = (1,1))\n",
    "    vec_test_fit = vec2.fit_transform(test_dataset)\n",
    "    examples1, words1 = vec_train_fit.shape\n",
    "    examples2, words2 = vec_test_fit.shape\n",
    "    # Find the number of words that are missing from the dev dataset\n",
    "    a = set(vec1.get_feature_names())\n",
    "    b = set(vec2.get_feature_names())\n",
    "\n",
    "    # Print results\n",
    "    print(\"The size of the training vocabulary is: {}\".format(words1))\n",
    "    print(\"The size of the development vocabulary is: {}\".format(words2))\n",
    "    print(\"The fraction of missing words: {}\".format(round((len(b-a)/len(b)), 2)))\n",
    "    \n",
    "    return "
   ]
  },
  {
   "cell_type": "code",
   "execution_count": 7,
   "metadata": {},
   "outputs": [
    {
     "name": "stdout",
     "output_type": "stream",
     "text": [
      "The size of the vocabulary is: 26879\n",
      "The average number of non-zero features per example is: 96.71\n",
      "The fraction of non-zero entries in the matrix is: 0.0036\n",
      "The first feature string is: 00\n",
      "The last feature string is: zyxel\n"
     ]
    }
   ],
   "source": [
    "P2_1(train_data)"
   ]
  },
  {
   "cell_type": "code",
   "execution_count": 8,
   "metadata": {},
   "outputs": [
    {
     "name": "stdout",
     "output_type": "stream",
     "text": [
      "The size of the vocabulary is: 4\n",
      "The average number of non-zero features per example is: 0.27\n"
     ]
    }
   ],
   "source": [
    "P2_2(train_data, [\"atheism\", \"graphics\", \"space\", \"religion\"])"
   ]
  },
  {
   "cell_type": "code",
   "execution_count": 9,
   "metadata": {},
   "outputs": [
    {
     "name": "stdout",
     "output_type": "stream",
     "text": [
      "The size of the vocabulary is: 35478\n",
      "The average number of non-zero features per example is: 684.19\n"
     ]
    }
   ],
   "source": [
    "P2_3(train_data)"
   ]
  },
  {
   "cell_type": "code",
   "execution_count": 34,
   "metadata": {},
   "outputs": [
    {
     "name": "stdout",
     "output_type": "stream",
     "text": [
      "The size of the vocabulary is: 3064\n",
      "The average number of non-zero features per example is: 72.68\n"
     ]
    }
   ],
   "source": [
    "P2_4(train_data)"
   ]
  },
  {
   "cell_type": "code",
   "execution_count": 76,
   "metadata": {},
   "outputs": [
    {
     "name": "stdout",
     "output_type": "stream",
     "text": [
      "The size of the training vocabulary is: 26879\n",
      "The size of the development vocabulary is: 16246\n",
      "The fraction of missing words: 0.25\n"
     ]
    }
   ],
   "source": [
    "P2_5(train_data, dev_data)"
   ]
  },
  {
   "cell_type": "markdown",
   "metadata": {
    "colab_type": "text",
    "id": "ydjkRh6LFsxp"
   },
   "source": [
    "### Part 3:\n",
    "\n",
    "Transform the training and development data to matrices of word unigram feature vectors.\n",
    "\n",
    "1. Produce several k-Nearest Neigbors models by varying k, including one with k set to optimize f1 score.  For each model, show the k value and f1 score.\n",
    "1. Produce several Naive Bayes models by varying smoothing (alpha), including one with alpha set approximately to optimize f1 score.  For each model, show the alpha value and f1 score.\n",
    "1. Produce several Logistic Regression models by varying L2 regularization strength (C), including one with C set approximately to optimize f1 score.  For each model, show the C value, f1 score, and sum of squared weights for each topic.\n",
    "\n",
    "* Why doesn't k-Nearest Neighbors work well for this problem?\n",
    "* Why doesn't Logistic Regression work as well as Naive Bayes does?\n",
    "* What is the relationship between logistic regression's sum of squared weights vs. C value?\n",
    "\n",
    "Notes:\n",
    "* Train on the transformed training data.\n",
    "* Evaluate on the transformed development data.\n",
    "* You can use `CountVectorizer` and its `.fit_transform` and `.transform` methods to transform data.\n",
    "* You can use `KNeighborsClassifier(...)` to produce a k-Nearest Neighbors model.\n",
    "* You can use `MultinomialNB(...)` to produce a Naive Bayes model.\n",
    "* You can use `LogisticRegression(C=..., solver=\"liblinear\", multi_class=\"auto\")` to produce a Logistic Regression model.\n",
    "* You can use `LogisticRegression`'s `.coef_` method to get weights for each topic.\n",
    "* You can use `metrics.f1_score(..., average=\"weighted\")` to compute f1 score."
   ]
  },
  {
   "cell_type": "code",
   "execution_count": 77,
   "metadata": {
    "colab": {},
    "colab_type": "code",
    "id": "VvhpODdWFsxp"
   },
   "outputs": [],
   "source": [
    "def P3_1(k_value, training_data, training_labels, testing_data, testing_labels):\n",
    "    \n",
    "    # Transform raw datasets into matrices\n",
    "    vec = CountVectorizer(input = 'content', binary = False, ngram_range = (1,1))\n",
    "    vec_fit_train = vec.fit_transform(training_data)\n",
    "    vec_fit_test = vec.transform(testing_data)\n",
    "    \n",
    "    # Fit KNN model \n",
    "    master_dic = {}\n",
    "    for value in k_value:\n",
    "        mod_knn = KNeighborsClassifier(n_neighbors = value)\n",
    "        mod_knn_fit = mod_knn.fit(vec_fit_train, training_labels)\n",
    "        mod_knn_pred = mod_knn.predict(vec_fit_test)\n",
    "        mod_knn_report = classification_report(testing_labels, mod_knn_pred, output_dict = True)\n",
    "        master_dic[value] = mod_knn_report['macro avg']['f1-score']\n",
    "        print(\"For {}-nearest neighbors, the F-1 score is: {}\".format(value, round(mod_knn_report['macro avg']['f1-score'], 3)))\n",
    "        \n",
    "    # Plot a graph to look at F1 scores for various K's\n",
    "    fig, ax1 = plt.subplots(figsize=(7,4))   \n",
    "    color = 'tab:red'\n",
    "    ax1.set_title(\"Average F-1 Score For Various K-Values\")\n",
    "    ax1.set_xlabel('K')\n",
    "    ax1.set_ylabel('Average F-1 Score')\n",
    "    ax1.plot(list(master_dic.keys()), list(master_dic.values()), marker = 'o', color = color)\n",
    "    \n",
    "    return \n",
    "\n",
    "\n",
    "def P3_2(alph, training_data, training_labels, testing_data, testing_labels):\n",
    "    \n",
    "    # Transform raw datasets into matrices\n",
    "    vec = CountVectorizer(input = 'content', binary = False, ngram_range = (1,1))\n",
    "    vec_fit_train = vec.fit_transform(training_data)\n",
    "    vec_fit_test = vec.transform(testing_data)\n",
    "    \n",
    "    # Fit NB model\n",
    "    master_dic = {}\n",
    "    for value in alph:\n",
    "        BNB = BernoulliNB(alpha = value)\n",
    "        BNB_fit = BNB.fit(vec_fit_train, training_labels)\n",
    "        BNB_predict = BNB_fit.predict(vec_fit_test)\n",
    "        BNB_report = classification_report(testing_labels, BNB_predict, output_dict=True)\n",
    "        master_dic[value] = BNB_report['macro avg']['f1-score']\n",
    "        print(\"For an alpha of {}, the F-1 score is: {}\".format(value, round(BNB_report['macro avg']['f1-score'], 3)))\n",
    "     \n",
    "    # Plot a graph to look at F1 scores for various alphas\n",
    "    fig, ax1 = plt.subplots(figsize=(7,4))   \n",
    "    color = 'tab:orange'\n",
    "    ax1.set_title(\"Average F-1 Score For Various Alphas\")\n",
    "    ax1.set_xlabel('Alpha')\n",
    "    ax1.set_ylabel('Average F-1 Score')\n",
    "    ax1.plot(list(master_dic.keys()), list(master_dic.values()), marker = 'v', color = color)\n",
    "    \n",
    "    return \n",
    "\n",
    "def P3_3(c, training_data, training_labels, testing_data, testing_labels):\n",
    "    \n",
    "    # Transform raw datasets into matrices\n",
    "    vec = CountVectorizer(input = 'content', binary = False, ngram_range = (1,1))\n",
    "    vec_fit_train = vec.fit_transform(training_data)\n",
    "    vec_fit_test = vec.transform(testing_data)\n",
    "    \n",
    "    # Fit LR model\n",
    "    master_dic = {}\n",
    "    for value in c:\n",
    "        LR = LogisticRegression(C = value, solver=\"liblinear\", multi_class=\"auto\")\n",
    "        LR_fit = LR.fit(vec_fit_train, training_labels)\n",
    "        LR_predict = LR_fit.predict(vec_fit_test)\n",
    "        coef = np.sum(LR.coef_**2)\n",
    "        LR_f1 = metrics.f1_score(testing_labels, LR_predict, average=\"weighted\")\n",
    "        master_dic[value] = LR_f1\n",
    "        print(\"For a C of {}, the F-1 score is: {}\".format(value, round(LR_f1, 3)))\n",
    "        print(\"The sum of the topic squared weights is: {}\".format(round(coef, 3)))\n",
    "        print(\"------------------------------------------------------------------\")\n",
    "        \n",
    "    # Plot a graph to look at F1 scores for various C's\n",
    "    fig, ax1 = plt.subplots(figsize=(7,4))   \n",
    "    color = 'tab:green'\n",
    "    ax1.set_title(\"Average F-1 Score For Various C's\")\n",
    "    ax1.set_xlabel('C')\n",
    "    ax1.set_ylabel('Average F-1 Score')\n",
    "    ax1.plot(list(master_dic.keys()), list(master_dic.values()), marker = 'x', color = color)\n",
    "    \n",
    "    return "
   ]
  },
  {
   "cell_type": "code",
   "execution_count": 78,
   "metadata": {},
   "outputs": [
    {
     "name": "stdout",
     "output_type": "stream",
     "text": [
      "For 1-nearest neighbors, the F-1 score is: 0.369\n",
      "For 5-nearest neighbors, the F-1 score is: 0.415\n",
      "For 12-nearest neighbors, the F-1 score is: 0.408\n",
      "For 24-nearest neighbors, the F-1 score is: 0.39\n",
      "For 48-nearest neighbors, the F-1 score is: 0.417\n",
      "For 96-nearest neighbors, the F-1 score is: 0.434\n",
      "For 120-nearest neighbors, the F-1 score is: 0.441\n",
      "For 192-nearest neighbors, the F-1 score is: 0.383\n"
     ]
    },
    {
     "data": {
      "image/png": "[encoded data removed]",
      "text/plain": [
       "<Figure size 504x288 with 1 Axes>"
      ]
     },
     "metadata": {
      "needs_background": "light"
     },
     "output_type": "display_data"
    }
   ],
   "source": [
    "P3_1([1, 5, 12, 24, 48, 96, 120, 192], train_data, train_labels, dev_data, dev_labels)"
   ]
  },
  {
   "cell_type": "code",
   "execution_count": 79,
   "metadata": {},
   "outputs": [
    {
     "name": "stdout",
     "output_type": "stream",
     "text": [
      "For an alpha of 1e-10, the F-1 score is: 0.678\n",
      "For an alpha of 0.0001, the F-1 score is: 0.664\n",
      "For an alpha of 0.001, the F-1 score is: 0.66\n",
      "For an alpha of 0.01, the F-1 score is: 0.641\n",
      "For an alpha of 0.1, the F-1 score is: 0.61\n",
      "For an alpha of 0.5, the F-1 score is: 0.551\n",
      "For an alpha of 1.0, the F-1 score is: 0.521\n",
      "For an alpha of 2.0, the F-1 score is: 0.48\n",
      "For an alpha of 10.0, the F-1 score is: 0.249\n"
     ]
    },
    {
     "data": {
      "image/png": "[encoded data removed]",
      "text/plain": [
       "<Figure size 504x288 with 1 Axes>"
      ]
     },
     "metadata": {
      "needs_background": "light"
     },
     "output_type": "display_data"
    }
   ],
   "source": [
    "P3_2([1.0e-10, 0.0001, 0.001, 0.01, 0.1, 0.5, 1.0, 2.0, 10.0], train_data, train_labels, dev_data, dev_labels)"
   ]
  },
  {
   "cell_type": "code",
   "execution_count": 80,
   "metadata": {},
   "outputs": [
    {
     "name": "stdout",
     "output_type": "stream",
     "text": [
      "For a C of 1e-10, the F-1 score is: 0.206\n",
      "The sum of the topic squared weights is: 0.0\n",
      "------------------------------------------------------------------\n",
      "For a C of 0.0001, the F-1 score is: 0.542\n",
      "The sum of the topic squared weights is: 0.038\n",
      "------------------------------------------------------------------\n",
      "For a C of 0.001, the F-1 score is: 0.619\n",
      "The sum of the topic squared weights is: 0.734\n",
      "------------------------------------------------------------------\n",
      "For a C of 0.01, the F-1 score is: 0.665\n",
      "The sum of the topic squared weights is: 10.594\n",
      "------------------------------------------------------------------\n",
      "For a C of 0.1, the F-1 score is: 0.697\n",
      "The sum of the topic squared weights is: 102.271\n",
      "------------------------------------------------------------------\n",
      "For a C of 0.5, the F-1 score is: 0.71\n",
      "The sum of the topic squared weights is: 373.82\n",
      "------------------------------------------------------------------\n",
      "For a C of 1.0, the F-1 score is: 0.694\n",
      "The sum of the topic squared weights is: 601.584\n",
      "------------------------------------------------------------------\n",
      "For a C of 2.0, the F-1 score is: 0.694\n",
      "The sum of the topic squared weights is: 922.101\n",
      "------------------------------------------------------------------\n",
      "For a C of 10.0, the F-1 score is: 0.685\n",
      "The sum of the topic squared weights is: 2104.343\n",
      "------------------------------------------------------------------\n"
     ]
    },
    {
     "data": {
      "image/png": "[encoded data removed]",
      "text/plain": [
       "<Figure size 504x288 with 1 Axes>"
      ]
     },
     "metadata": {
      "needs_background": "light"
     },
     "output_type": "display_data"
    }
   ],
   "source": [
    "P3_3([1.0e-10, 0.0001, 0.001, 0.01, 0.1, 0.5, 1.0, 2.0, 10.0], train_data, train_labels, dev_data, dev_labels)"
   ]
  },
  {
   "cell_type": "markdown",
   "metadata": {
    "colab_type": "text",
    "id": "jWtXwAlOFsxr"
   },
   "source": [
    "ANSWER:\n",
    "\n",
    "1. K-nearest neighbors does not work well for this problem, because the vocabulary is very large, meaning that there are many different features and feature combinations that can potentially be clustered. Moreover, outside of the core constructs of grammar, it would be very difficult to cluster in terms of nearest-neighbors due to the sheer number of unique words and features, i.e. datapoints that would be considered outliers. A solution to this is to remove all common words. Nevertheless, \n",
    "\n",
    "\n",
    "2. Naive Bayes is a generative model that learns the joint probabilities of the features i.e. p(x,y). Logistic regression is a discriminative model that learns the conditional probability distribution i.e. p(x|y). Generative models have higher bias, but lower variance than discriminative models. High bias is indicative of model underfitting, however (meaning it fits the training and testing sets poorly). High variance is indicative of model overfitting (meaning it fits the training data well, but the testing data poorly). In Naive Bayes models, bias is caused by violation of the assumption of conditional independence of the features given a class and that provided all the assumptions are met for both models, Naive Bayes should not outperform logistic regression. In text classication tasks, like we have just performed, the fact that logistic regression is outperformed by Naive Bayes means that the high bias of this model caused by violation of the independence assumption is outweighed by the high variance of the logistic regression model when it comes to classifying text. The high variance for logistic regression is likely provided by the large number of features contained in the text corpus. Nevertheless, with more training examples (say >10,000), logistic regression might begin to outperform Bayes.\n",
    "\n",
    "\n",
    "3. The C value is the inverse of regularization strength, and smaller values represent a stronger regularization. It applies a progressive penalty to parameter values that are more extreme (i.e. outliers) in order to reduce overfitting (high variance). Most often to rectify this, we utilize a function that penalizes large values that might cause the model to overfit: $\\lambda \\sum \\theta_{j}^2$ where lambda is a constant multiplied by the sum of the squared parameter values. C is therefore $\\frac{1}{\\lambda}$. With higher higher lambdas, the more the extreme values will be penalized."
   ]
  },
  {
   "cell_type": "markdown",
   "metadata": {
    "colab_type": "text",
    "id": "dGEjsm_uFsxr"
   },
   "source": [
    "### Part 4:\n",
    "\n",
    "Transform the data to a matrix of word **bigram** feature vectors.  Produce a Logistic Regression model.  For each topic, find the 5 features with the largest weights (that's 20 features in total).  Show a 20 row (features) x 4 column (topics) table of the weights.\n",
    "\n",
    "Do you see any surprising features in this table?\n",
    "\n",
    "Notes:\n",
    "* Train on the transformed training data.\n",
    "* You can use `CountVectorizer` and its `.fit_transform` method to transform data.\n",
    "* You can use `LogisticRegression(C=0.5, solver=\"liblinear\", multi_class=\"auto\")` to produce a Logistic Regression model.\n",
    "* You can use `LogisticRegression`'s `.coef_` method to get weights for each topic.\n",
    "* You can use `np.argsort` to get indices sorted by element value. "
   ]
  },
  {
   "cell_type": "code",
   "execution_count": 81,
   "metadata": {
    "colab": {},
    "colab_type": "code",
    "id": "WN51Nv4fFsxs"
   },
   "outputs": [],
   "source": [
    "def P4(training_data, training_labels, testing_data, testing_labels):\n",
    "    \n",
    "    # Transform raw datasets into matrices\n",
    "    vec = CountVectorizer(input = 'content', binary = False, ngram_range = (2,2))\n",
    "    vec_fit_train = vec.fit_transform(training_data)\n",
    "    vec_fit_test = vec.transform(testing_data)\n",
    "    bow = vec.get_feature_names()\n",
    "    \n",
    "    # Fit LR model\n",
    "    LR = LogisticRegression(C = 0.5, solver=\"liblinear\", multi_class=\"auto\")\n",
    "    LR_fit = LR.fit(vec_fit_train, training_labels)\n",
    "    LR_predict = LR_fit.predict(vec_fit_test)\n",
    "    coef = LR.coef_\n",
    "    \n",
    "    # Get the top 5 features\n",
    "    top_five_array = np.argsort(coef)[:,-5:]\n",
    "    \n",
    "    # Create a master list of all the bigrams across all categories\n",
    "    master_list = []\n",
    "    bigrams = []\n",
    "    for row in top_five_array:\n",
    "        for index in row:\n",
    "            bigrams.append(bow[index])\n",
    "            for category in coef:\n",
    "                master_list.append(round(category[index], 2))\n",
    "    \n",
    "    # Turn this into a numpy matrix\n",
    "    master_array = np.stack(np.split(np.array(master_list), 20), axis = 1)\n",
    "    \n",
    "    # Turn this into a table \n",
    "    fig = plt.figure(figsize=(10,5))\n",
    "    ax = fig.add_subplot()\n",
    "    table = plt.table(cellText = master_array.T, rowLabels = bigrams, colLabels = newsgroups_train.target_names, loc='top')\n",
    "    table.set_fontsize(15)\n",
    "    table.scale(1, 3)\n",
    "    plt.axis('off')\n",
    "    \n",
    "    return "
   ]
  },
  {
   "cell_type": "code",
   "execution_count": 82,
   "metadata": {},
   "outputs": [
    {
     "data": {
      "image/png": "[encoded data removed]",
      "text/plain": [
       "<Figure size 720x360 with 1 Axes>"
      ]
     },
     "metadata": {
      "needs_background": "light"
     },
     "output_type": "display_data"
    }
   ],
   "source": [
    "P4(train_data, train_labels, dev_data, dev_labels)"
   ]
  },
  {
   "cell_type": "markdown",
   "metadata": {
    "colab_type": "text",
    "id": "cY67F-tXFsxt"
   },
   "source": [
    "ANSWER: \n",
    "\n",
    "Surprisingly, the most common bigrams are not necessarily related to the topics of interest, and several are found across multiple cateogories. \n",
    "\n",
    "Some of the values in this table are also misleading if the \"abs\" output is used, as 1.11 is technically larger than what the largest real probability is for the bigrams in the category in question. "
   ]
  },
  {
   "cell_type": "markdown",
   "metadata": {
    "colab_type": "text",
    "id": "rVWhSJHHFsxu"
   },
   "source": [
    "### Part 5:\n",
    "\n",
    "To improve generalization, it is common to try preprocessing text in various ways before splitting into words. For example, you could try transforming strings to lower case, replacing sequences of numbers with single tokens, removing various non-letter characters, and shortening long words.\n",
    "\n",
    "Produce a Logistic Regression model (with no preprocessing of text).  Evaluate and show its f1 score and size of the dictionary.\n",
    "\n",
    "Produce an improved Logistic Regression model by preprocessing the text.  Evaluate and show its f1 score and size of the vocabulary.  Try for an improvement in f1 score of at least 0.02.\n",
    "\n",
    "How much did the improved model reduce the vocabulary size?\n",
    "\n",
    "Notes:\n",
    "* Train on the transformed training data.\n",
    "* Evaluate on the transformed development data.\n",
    "* You can use `CountVectorizer(preprocessor=...)` to preprocess strings with your own custom-defined function.\n",
    "* `CountVectorizer` default is to preprocess strings to lower case.\n",
    "* You can use `LogisticRegression(C=0.5, solver=\"liblinear\", multi_class=\"auto\")` to produce a logistic regression model.\n",
    "* You can use `metrics.f1_score(..., average=\"weighted\")` to compute f1 score.\n",
    "* If you're not already familiar with regular expressions for manipulating strings, see https://docs.python.org/2/library/re.html, and re.sub() in particular."
   ]
  },
  {
   "cell_type": "code",
   "execution_count": 83,
   "metadata": {
    "colab": {},
    "colab_type": "code",
    "id": "l7gS3cGpFsxv"
   },
   "outputs": [],
   "source": [
    "def better_preprocessor(s):\n",
    "    \n",
    "    # Convert to lower case\n",
    "    s = s.lower()\n",
    "\n",
    "    # Remove stop words\n",
    "    tk = nltk.tokenize\n",
    "    text_tokens = tk.word_tokenize(s)\n",
    "    tokens_without_sw = [word for word in text_tokens if not word in ENGLISH_STOP_WORDS]\n",
    "    s = (\" \").join(tokens_without_sw)\n",
    "    \n",
    "    # Remove newlines\n",
    "    s = re.sub(r'\\n', ' ', s)\n",
    "    \n",
    "    # Replace digits \n",
    "    s = re.sub(r'\\d', '@', s)\n",
    "\n",
    "    # Remove punctuation \n",
    "    s = re.sub(r'[^A-Za-z0-9]+', ' ', s)\n",
    "    \n",
    "    # Replace digits \n",
    "    s = re.sub(r'\\d', '@', s)\n",
    "    \n",
    "    # Remove words with certain endings\n",
    "    s = re.sub('ing ', ' ', s)\n",
    "    s = re.sub('est ', ' ', s)\n",
    "    s = re.sub('ly ', ' ', s)\n",
    "    s = re.sub('ion ', ' ', s)\n",
    "    \n",
    "    return s\n",
    "\n",
    "def P5(training_data, training_labels, testing_data, testing_labels):\n",
    "    \n",
    "    # Train models with no pre-processing\n",
    "    vec1 = CountVectorizer(preprocessor = None)\n",
    "    vec_fit_train1 = vec1.fit_transform(training_data)\n",
    "    vec_fit_dev1 = vec1.transform(testing_data)\n",
    "    \n",
    "    LR1 = LogisticRegression(C = 0.5, solver = \"liblinear\", multi_class = \"auto\")\n",
    "    LR_fit1 = LR1.fit(vec_fit_train1, training_labels)\n",
    "    LR_predict1 = LR_fit1.predict(vec_fit_dev1)\n",
    "    LR1_f1 = metrics.f1_score(testing_labels, LR_predict1, average=\"weighted\")\n",
    "    \n",
    "    # Train models with pre-processing\n",
    "    vec = CountVectorizer(preprocessor = better_preprocessor)\n",
    "    vec_fit_train = vec.fit_transform(training_data)\n",
    "    vec_fit_dev = vec.transform(testing_data)\n",
    "    \n",
    "    LR = LogisticRegression(C = 0.5, solver = \"liblinear\", multi_class = \"auto\")\n",
    "    LR_fit = LR.fit(vec_fit_train, training_labels)\n",
    "    LR_predict = LR_fit.predict(vec_fit_dev)\n",
    "    LR_f1 = metrics.f1_score(testing_labels, LR_predict, average=\"weighted\")\n",
    "    \n",
    "    print(\"The non pre-processed F1 score is: {}\".format(round(LR1_f1, 3)))\n",
    "    print(\"--------------------------------------------------------------\")\n",
    "    print(\"The pre-processed F1 score is: {}\".format(round(LR_f1, 3)))\n",
    "    print(\"--------------------------------------------------------------\")\n",
    "    print(\"With pre-processing the score has improved by {}, or {}%\".format(round(LR_f1-LR1_f1, 3), round(((LR_f1-LR1_f1)/LR1_f1)*100, 2)))\n",
    "    \n",
    "    return "
   ]
  },
  {
   "cell_type": "code",
   "execution_count": 84,
   "metadata": {},
   "outputs": [
    {
     "name": "stdout",
     "output_type": "stream",
     "text": [
      "The non pre-processed F1 score is: 0.71\n",
      "--------------------------------------------------------------\n",
      "The pre-processed F1 score is: 0.732\n",
      "--------------------------------------------------------------\n",
      "With pre-processing the score has improved by 0.022, or 3.13%\n"
     ]
    }
   ],
   "source": [
    "P5(train_data, train_labels, dev_data, dev_labels)"
   ]
  },
  {
   "cell_type": "markdown",
   "metadata": {},
   "source": [
    "I experimented with various pre-processing methods including tokenizing, stemming and other methods, however I found that the the included in this order of application improved the logistic regression models by the largest amount."
   ]
  },
  {
   "cell_type": "markdown",
   "metadata": {
    "colab_type": "text",
    "id": "Uy-WITbNFsxw"
   },
   "source": [
    "### Part 6:\n",
    "\n",
    "The idea of regularization is to avoid learning very large weights (which are likely to fit the training data, but not generalize well) by adding a penalty to the total size of the learned weights. Logistic regression seeks the set of weights that minimizes errors in the training data AND has a small total size. The default L2 regularization computes this size as the sum of the squared weights (as in Part 3 above). L1 regularization computes this size as the sum of the absolute values of the weights. Whereas L2 regularization makes all the weights relatively small, L1 regularization drives many of the weights to 0, effectively removing unimportant features.\n",
    "\n",
    "For several L1 regularization strengths ...<br/>\n",
    "* Produce a Logistic Regression model using the **L1** regularization strength.  Reduce the vocabulary to only those features that have at least one non-zero weight among the four categories.  Produce a new Logistic Regression model using the reduced vocabulary and **L2** regularization strength of 0.5.  Evaluate and show the L1 regularization strength, vocabulary size, and f1 score associated with the new model.\n",
    "\n",
    "Show a plot of f1 score vs. log vocabulary size.  Each point corresponds to a specific L1 regularization strength used to reduce the vocabulary.\n",
    "\n",
    "How does performance of the models based on reduced vocabularies compare to that of a model based on the full vocabulary?\n",
    "\n",
    "Notes:\n",
    "* Train on the transformed training data.\n",
    "* Evaluate on the transformed development data.\n",
    "* You can use `LogisticRegression(..., penalty=\"l1\")` to produce a logistic regression model using L1 regularization.\n",
    "* You can use `LogisticRegression(..., penalty=\"l2\")` to produce a logistic regression model using L2 regularization.\n",
    "* You can use `LogisticRegression(..., tol=0.015)` to produce a logistic regression model using relaxed gradient descent convergence criteria.  The gradient descent code that trains the logistic regression model sometimes has trouble converging with extreme settings of the C parameter. Relax the convergence criteria by setting tol=.015 (the default is .0001)."
   ]
  },
  {
   "cell_type": "code",
   "execution_count": 97,
   "metadata": {
    "colab": {},
    "colab_type": "code",
    "id": "l6ho31SrFsxx"
   },
   "outputs": [],
   "source": [
    "def P6(training_data, training_labels, testing_data, testing_labels, c):\n",
    "    \n",
    "    # Keep this random seed here to make comparison easier.\n",
    "    seed = np.random.seed(0)\n",
    "    \n",
    "    # Transform raw datasets into matrices\n",
    "    vec = CountVectorizer()\n",
    "    vec_fit_train = vec.fit_transform(training_data)\n",
    "    vec_fit_test = vec.transform(testing_data)\n",
    "    \n",
    "    # Create some lists\n",
    "    vocab_size = []\n",
    "    f1_scores = []\n",
    "    l2_f1_scores = []\n",
    "    \n",
    "    # Fit models with different C's\n",
    "    for value in c:\n",
    "        l1_model = LogisticRegression(solver = 'liblinear', penalty = \"l1\", C = value, tol = 0.015, random_state = seed)\n",
    "        fitted_l1_model = l1_model.fit(vec_fit_train, training_labels)\n",
    "        l1_model_predict = fitted_l1_model.predict(vec_fit_test)\n",
    "        l1_model_f1 = metrics.f1_score(testing_labels, l1_model_predict, average = \"weighted\")\n",
    "        f1_scores.append(l1_model_f1)\n",
    "        vocab_size.append(np.count_nonzero(np.count_nonzero(l1_model.coef_, axis = 0)))\n",
    "        \n",
    "        # Get index positions of all non-zero features\n",
    "        indices = np.nonzero(np.count_nonzero(l1_model.coef_, axis = 0))\n",
    "        \n",
    "        # Compile new vocabulary based upon previous output\n",
    "        new_vocab = []\n",
    "        for lis in indices:\n",
    "            for index in lis:\n",
    "                new_vocab.append(vec.get_feature_names()[index])\n",
    "                \n",
    "        # Run new LR model with l2 regularization and C = 0.5\n",
    "        new_vec = CountVectorizer(vocabulary = new_vocab)\n",
    "        new_vec_fit_train = new_vec.fit_transform(training_data)\n",
    "        new_vec_fit_test = new_vec.transform(testing_data)\n",
    "        \n",
    "        l2_model = LogisticRegression(solver = 'liblinear', penalty = \"l2\", C = 0.5, tol = 0.015, random_state = seed)\n",
    "        fitted_l2_model = l2_model.fit(new_vec_fit_train, training_labels)\n",
    "        l2_model_predict = fitted_l2_model.predict(new_vec_fit_test)\n",
    "        l2_model_f1 = metrics.f1_score(testing_labels, l2_model_predict, average = \"weighted\")\n",
    "        l2_f1_scores.append(l2_model_f1)\n",
    "    \n",
    "    # Print out model performance info\n",
    "    print(\"Model Performance Metrics:\")\n",
    "    print(\"------------------------------------------------------------------------------------\")\n",
    "    for size, f1_1, f1_2, c in zip(vocab_size, f1_scores, l2_f1_scores, c):\n",
    "        print(\"The f1 score using with L1 regularization and a C of {} is {}\".format(round(c, 1), round(f1_1, 3)))\n",
    "        print(\"The f1 score using with L2 regularization, a C of 0.5 and vocabulary size of {} is {}\".format(size, round(f1_2, 3)))\n",
    "        print(\"------------------------------------------------------------------------------------\")\n",
    "    \n",
    "    # Plot performance graphs \n",
    "    fig, ax1 = plt.subplots(figsize = (8,5))   \n",
    "    ax1.set_title(\"Model f1 Score for Various Vocabulary Sizes\")\n",
    "    ax1.set_xlabel('log(Vocabulary Size)')\n",
    "    ax1.set_ylabel('F-1 Score')\n",
    "    ax1.plot(np.log(vocab_size), f1_scores, marker = 'x', color = \"purple\", label = \"L1\")\n",
    "    ax1.plot(np.log(vocab_size), l2_f1_scores, marker = 'v', color = \"darkgoldenrod\", label = \"L2\")\n",
    "    ax1.legend()\n",
    "        \n",
    "    return"
   ]
  },
  {
   "cell_type": "code",
   "execution_count": 98,
   "metadata": {},
   "outputs": [
    {
     "name": "stdout",
     "output_type": "stream",
     "text": [
      "Model Performance Metrics:\n",
      "------------------------------------------------------------------------------------\n",
      "The f1 score using with L1 regularization and a C of 0.0 is 0.428\n",
      "The f1 score using with L2 regularization, a C of 0.5 and vocabulary size of 17 is 0.468\n",
      "------------------------------------------------------------------------------------\n",
      "The f1 score using with L1 regularization and a C of 0.1 is 0.652\n",
      "The f1 score using with L2 regularization, a C of 0.5 and vocabulary size of 228 is 0.689\n",
      "------------------------------------------------------------------------------------\n",
      "The f1 score using with L1 regularization and a C of 0.2 is 0.693\n",
      "The f1 score using with L2 regularization, a C of 0.5 and vocabulary size of 401 is 0.672\n",
      "------------------------------------------------------------------------------------\n",
      "The f1 score using with L1 regularization and a C of 0.3 is 0.696\n",
      "The f1 score using with L2 regularization, a C of 0.5 and vocabulary size of 523 is 0.678\n",
      "------------------------------------------------------------------------------------\n",
      "The f1 score using with L1 regularization and a C of 0.4 is 0.688\n",
      "The f1 score using with L2 regularization, a C of 0.5 and vocabulary size of 651 is 0.668\n",
      "------------------------------------------------------------------------------------\n",
      "The f1 score using with L1 regularization and a C of 0.5 is 0.691\n",
      "The f1 score using with L2 regularization, a C of 0.5 and vocabulary size of 762 is 0.673\n",
      "------------------------------------------------------------------------------------\n",
      "The f1 score using with L1 regularization and a C of 0.6 is 0.691\n",
      "The f1 score using with L2 regularization, a C of 0.5 and vocabulary size of 873 is 0.686\n",
      "------------------------------------------------------------------------------------\n",
      "The f1 score using with L1 regularization and a C of 0.7 is 0.685\n",
      "The f1 score using with L2 regularization, a C of 0.5 and vocabulary size of 953 is 0.68\n",
      "------------------------------------------------------------------------------------\n",
      "The f1 score using with L1 regularization and a C of 0.8 is 0.7\n",
      "The f1 score using with L2 regularization, a C of 0.5 and vocabulary size of 1009 is 0.677\n",
      "------------------------------------------------------------------------------------\n",
      "The f1 score using with L1 regularization and a C of 0.9 is 0.69\n",
      "The f1 score using with L2 regularization, a C of 0.5 and vocabulary size of 1070 is 0.673\n",
      "------------------------------------------------------------------------------------\n"
     ]
    },
    {
     "data": {
      "image/png": "[encoded data removed]",
      "text/plain": [
       "<Figure size 576x360 with 1 Axes>"
      ]
     },
     "metadata": {
      "needs_background": "light"
     },
     "output_type": "display_data"
    }
   ],
   "source": [
    "c = list(np.arange(0.01,1,0.1))\n",
    "P6(train_data, train_labels, dev_data, dev_labels, c)"
   ]
  },
  {
   "cell_type": "markdown",
   "metadata": {
    "colab_type": "text",
    "id": "bZmIPwExFsx1"
   },
   "source": [
    "ANSWER:\n",
    "\n",
    "Model performance is positively correlated with training vocabulary size for both types of models that we created. Nevertheless, as the models using the reduced vocabulary use l2 regularization with a fixed C-value, while the models using the full vocabulary use a variable C value and l1 regularization with a changing C-value it might be difficult to make accurate comparisons between the two. We can see from the graph above, however, that the l2 model with reduced vocabulary generally outperforms the l1 model with the full vocabulary, up to a certain point, where the l1 model then overtakes the l2 model in terms of performance. Nevertheless, performance for both plateaus after about log(5) vocabulary size. Lasso (l2) shrinks the less important (i.e. outlier) coefficients independently, while ridge (l1) shrinks outliers unevenly to 0. It would appear that after a certain vocabulary size, the colinearity of variables begins to impact the l2 model, thus allowing it to be outperformed by the l1 model. "
   ]
  },
  {
   "cell_type": "markdown",
   "metadata": {
    "colab_type": "text",
    "id": "QmrHf8AMFsxz"
   },
   "source": [
    "### Part 7:\n",
    "\n",
    "How is `TfidfVectorizer` different than `CountVectorizer`?\n",
    "\n",
    "Produce a Logistic Regression model based on data represented in tf-idf form, with L2 regularization strength of 100.  Evaluate and show the f1 score.  How is `TfidfVectorizer` different than `CountVectorizer`?\n",
    "\n",
    "Show the 3 documents with highest R ratio, where ...<br/>\n",
    "$R\\,ratio = maximum\\,predicted\\,probability \\div predicted\\,probability\\,of\\,correct\\,label$\n",
    "\n",
    "Explain what the R ratio describes.  What kinds of mistakes is the model making? Suggest a way to address one particular issue that you see.\n",
    "\n",
    "Note:\n",
    "* Train on the transformed training data.\n",
    "* Evaluate on the transformed development data.\n",
    "* You can use `TfidfVectorizer` and its `.fit_transform` method to transform data to tf-idf form.\n",
    "* You can use `LogisticRegression(C=100, solver=\"liblinear\", multi_class=\"auto\")` to produce a logistic regression model.\n",
    "* You can use `LogisticRegression`'s `.predict_proba` method to access predicted probabilities."
   ]
  },
  {
   "cell_type": "code",
   "execution_count": 47,
   "metadata": {
    "colab": {},
    "colab_type": "code",
    "id": "8vwU_9t2Fsx0"
   },
   "outputs": [],
   "source": [
    "def P7(train_data, train_labels, test_data, test_labels):\n",
    "    \n",
    "    # Fit tfidf vectorizer\n",
    "    tfidf = TfidfVectorizer()\n",
    "    tfidf_fit_train = tfidf.fit_transform(train_data)\n",
    "    tfidf_fit_test = tfidf.transform(test_data)\n",
    "    \n",
    "    # Fit count vectorizer\n",
    "    cv = CountVectorizer()\n",
    "    cv_fit_train = cv.fit_transform(train_data)\n",
    "    cv_fit_test = cv.transform(test_data)\n",
    "    \n",
    "    # Train LR using tfidf\n",
    "    LR1 = LogisticRegression(C = 100, solver = \"liblinear\", multi_class = \"auto\")\n",
    "    LR1_fit = LR1.fit(tfidf_fit_train, train_labels)\n",
    "    LR1_predict = LR1.predict(tfidf_fit_test)\n",
    "    LR1_f1 = metrics.f1_score(test_labels, LR1_predict, average = \"weighted\")\n",
    "    \n",
    "    # Train LR using standard countvectorizer\n",
    "    LR2 = LogisticRegression(C = 100, solver = \"liblinear\", multi_class = \"auto\")\n",
    "    LR2_fit = LR2.fit(cv_fit_train, train_labels)\n",
    "    LR2_predict = LR2.predict(cv_fit_test)\n",
    "    LR2_f1 = metrics.f1_score(test_labels, LR2_predict, average = \"weighted\")\n",
    "    \n",
    "    # Calculate top 3 probabilities\n",
    "    LR1_pred = LR1.predict_proba(tfidf_fit_test)\n",
    "    \n",
    "    position_list = []\n",
    "    for row in LR1_pred:\n",
    "        position_list.append(np.argmax(row))\n",
    "        \n",
    "    ratio_list = []\n",
    "    for index, label in enumerate(position_list):\n",
    "        if label == test_labels[index]:\n",
    "            ratio_list.append(np.max(LR1_pred[index])/LR1_pred[index][label])\n",
    "        else:\n",
    "            ratio_list.append(np.max(LR1_pred[index]/LR1_pred[index][test_labels[index]]))\n",
    "            \n",
    "    indices = list((-np.array(ratio_list)).argsort()[:3])\n",
    "    \n",
    "    # Print \n",
    "    print(\"Comparison of Model Performance\")\n",
    "    print(\"---------------------------------------------------------------------------------------------------\")\n",
    "    print(\"The f1 score of the logistic regression model using the Tfidf vectorized training dataset is: {}\".format(round(LR1_f1, 3)))\n",
    "    print(\"The f1 score of the logistic regression model using the count vectorized training dataset is: {}\".format(round(LR2_f1, 3)))\n",
    "    print(\"---------------------------------------------------------------------------------------------------\")\n",
    "    print(\"\")\n",
    "    print(\"\")\n",
    "    print(\"Documents with the 3 Largest R-Ratios\")\n",
    "    print(\"\")\n",
    "    for index, value in enumerate(indices):\n",
    "        print(\"Example {}\".format(index + 1))\n",
    "        print(\"---------------------------------------------------------------------------------------------------\")\n",
    "        print(\"The predicted label: {}\".format(newsgroups_train.target_names[position_list[value]]))\n",
    "        print(\"The real label: {}\".format(newsgroups_train.target_names[test_labels[value]]))\n",
    "        print(\"The R-ratio: {}\".format(round(ratio_list[value], 3)))\n",
    "        print(\"---------------------------------------------------------------------------------------------------\")\n",
    "        print(\"The message:\")\n",
    "        print(test_data[value])\n",
    "        print(\"\")\n",
    "        \n",
    "    return "
   ]
  },
  {
   "cell_type": "code",
   "execution_count": 48,
   "metadata": {},
   "outputs": [
    {
     "name": "stdout",
     "output_type": "stream",
     "text": [
      "Comparison of Model Performance\n",
      "---------------------------------------------------------------------------------------------------\n",
      "The f1 score of the logistic regression model using the Tfidf vectorized training dataset is: 0.76\n",
      "The f1 score of the logistic regression model using the count vectorized training dataset is: 0.68\n",
      "---------------------------------------------------------------------------------------------------\n",
      "\n",
      "\n",
      "Documents with the 3 Largest R-Ratios\n",
      "\n",
      "Example 1\n",
      "---------------------------------------------------------------------------------------------------\n",
      "The predicted label: comp.graphics\n",
      "The real label: talk.religion.misc\n",
      "The R-ratio: 929.358\n",
      "---------------------------------------------------------------------------------------------------\n",
      "The message:\n",
      "I am pleased to announce that a *revised version* of _The Easy-to-Read Book\n",
      "of Mormon_ (former title: _Mormon's Book_) by Lynn Matthews Anderson is now\n",
      "available through anonymous ftp (see information below). In addition to the\n",
      "change in title, the revised ETR BOM has been shortened by several pages\n",
      "(eliminating many extraneous \"that's\" and \"of's\"), and many (minor) errors\n",
      "have been corrected. This release includes a simplified Joseph Smith Story,\n",
      "testimonies of the three and eight witnesses, and a \"Words-to-Know\"\n",
      "glossary.\n",
      "\n",
      "As with the previous announcement, readers are reminded that this is a\n",
      "not-for-profit endeavor. This is a copyrighted work, but people are welcome\n",
      "to make *verbatim* copies for personal use. People can recuperate the\n",
      "actual costs of printing (paper, copy center charges), but may not charge\n",
      "anything for their time in making copies, or in any way realize a profit\n",
      "from the use of this book. See the permissions notice in the book itself\n",
      "for the precise terms.\n",
      "\n",
      "Negotiations are currently underway with a Mormon publisher vis-a-vis the\n",
      "printing and distribution of bound books. (Sorry, I'm out of the wire-bound\n",
      "\"first editions.\") I will make another announcement about the availability\n",
      "of printed copies once everything has been worked out.\n",
      "\n",
      "FTP information: connect via anonymous ftp to carnot.itc.cmu.edu, then \"cd\n",
      "pub\" (you won't see anything at all until you do).\n",
      "\n",
      "\"The Easy-to-Read Book of Mormon\" is currently available in postscript and\n",
      "RTF (rich text format). (ASCII, LaTeX, and other versions can be made\n",
      "available; contact dba@andrew.cmu.edu for details.) You should be able to\n",
      "print the postscript file on any postscript printer (such as an Apple\n",
      "Laserwriter); let dba know if you have any difficulties. (The postscript in\n",
      "the last release had problems on some printers; this time it should work\n",
      "better.) RTF is a standard document interchange format that can be read in\n",
      "by a number of word processors, including Microsoft Word for both the\n",
      "Macintosh and Windows. If you don't have a postscript printer, you may be\n",
      "able to use the RTF file to print out a copy of the book.\n",
      "\n",
      "-r--r--r--  1 dba                   1984742 Apr 27 13:12 etrbom.ps\n",
      "-r--r--r--  1 dba                   1209071 Apr 27 13:13 etrbom.rtf\n",
      "\n",
      "For more information about how this project came about, please refer to my\n",
      "article in the current issue of _Sunstone_, entitled \"Delighting in\n",
      "Plainness: Issues Surrounding a Simple Modern English Book of Mormon.\"\n",
      "\n",
      "Send all inquiries and comments to:\n",
      "\n",
      "    Lynn Matthews Anderson\n",
      "    5806 Hampton Street\n",
      "    Pittsburgh, PA 15206\n",
      "\n",
      "Example 2\n",
      "---------------------------------------------------------------------------------------------------\n",
      "The predicted label: comp.graphics\n",
      "The real label: talk.religion.misc\n",
      "The R-ratio: 325.004\n",
      "---------------------------------------------------------------------------------------------------\n",
      "The message:\n",
      "Can anyone provide me a ftp site where I can obtain a online version\n",
      "of the Book of Mormon. Please email the internet address if possible.\n",
      "\n",
      "Example 3\n",
      "---------------------------------------------------------------------------------------------------\n",
      "The predicted label: talk.religion.misc\n",
      "The real label: alt.atheism\n",
      "The R-ratio: 287.179\n",
      "---------------------------------------------------------------------------------------------------\n",
      "The message:\n",
      "\n",
      "The 24 children were, of course, killed by a lone gunman in a second story\n",
      "window, who fired eight bullets in the space of two seconds...\n",
      "\n",
      "\n"
     ]
    }
   ],
   "source": [
    "P7(train_data, train_labels, dev_data, dev_labels)"
   ]
  },
  {
   "cell_type": "markdown",
   "metadata": {
    "colab_type": "text",
    "id": "bZmIPwExFsx1"
   },
   "source": [
    "ANSWER:\n",
    "\n",
    "The R-ratio may be thought of as a magnitude score of how wrong the model was in predicting the class of the message. The numerator of the R-ratio is the maximum predicted probability, corresponding to the index position of the predicted class. The denominator corresponds to the true label probability. The lower the true label's probability, the \"worse\" the model performed for that particular data point and consequently the R-ratio will be larger due to the differences between the numerators and denominators. \n",
    "\n",
    "Interestingly the example which the model performed worst on - i.e. the one with the highest R-ratio is a message belonging to the religion label, but which actually has many computer and computer-graphics related words in it. This is likely why the model predicted the wrong label. Similarly for the second worst performing example, it was another religion example, but with words like \"ftp\", \"online\" and \"internet\", demonstrating how the model might mistake it for belonging to computer graphics. Finally, the 3rd worst performing example is a little more different without any particular key words belonging to either category. \n",
    "\n",
    "A potential way to address this would be to try and identify words that seem to be common in the language and thus across categories (but not strictly categorized as \"stop words\" per se) - e.g. \"internet\", \"e-mail\" etc and remove these from the vocabulary, we can potentially modify the preprocessor for this."
   ]
  },
  {
   "cell_type": "markdown",
   "metadata": {
    "colab_type": "text",
    "id": "VmsDxtzoFsx1"
   },
   "source": [
    "### Part 8 EXTRA CREDIT:\n",
    "\n",
    "Produce a Logistic Regression model to implement your suggestion from Part 7."
   ]
  },
  {
   "cell_type": "code",
   "execution_count": 158,
   "metadata": {},
   "outputs": [],
   "source": [
    "def better_better_preprocessor(s):\n",
    "\n",
    "    # Convert to lower case\n",
    "    s = s.lower()\n",
    "\n",
    "    # Remove stop words\n",
    "    tk = nltk.tokenize\n",
    "    text_tokens = tk.word_tokenize(s)\n",
    "    tokens_without_sw = [word for word in text_tokens if not word in ENGLISH_STOP_WORDS]\n",
    "    s = (\" \").join(tokens_without_sw)\n",
    "    \n",
    "    # Remove some generic words like 'email', 'internet' etc.\n",
    "    remove_list = ['e-mail', 'email', 'internet', 'ftp', 'ascii', 'latex', '.edu', '.com']\n",
    "    remove = '|'.join(remove_list)\n",
    "    \n",
    "    s = re.sub(remove, ' ', s)\n",
    "    \n",
    "    # Remove newlines\n",
    "    s = re.sub(r'\\n', ' ', s)\n",
    "    \n",
    "    # Replace digits \n",
    "    s = re.sub(r'\\d', '@', s)\n",
    "\n",
    "    # Remove punctuation \n",
    "    s = re.sub(r'[^A-Za-z0-9]+', ' ', s)\n",
    "    \n",
    "    # Replace digits \n",
    "    s = re.sub(r'\\d', '@', s)\n",
    "    \n",
    "    # Remove words with certain endings\n",
    "    s = re.sub('ing ', ' ', s)\n",
    "    s = re.sub('est ', ' ', s)\n",
    "    s = re.sub('ly ', ' ', s)\n",
    "    s = re.sub('ion ', ' ', s)\n",
    "    \n",
    "    return s"
   ]
  },
  {
   "cell_type": "code",
   "execution_count": 159,
   "metadata": {},
   "outputs": [],
   "source": [
    "def P8(train_data, train_labels, test_data, test_labels):\n",
    "    \n",
    "    # Fit tfidf vectorizer\n",
    "    tfidf = TfidfVectorizer(preprocessor=better_better_preprocessor)\n",
    "    tfidf_fit_train = tfidf.fit_transform(train_data)\n",
    "    tfidf_fit_test = tfidf.transform(test_data)\n",
    "    \n",
    "    # Fit count vectorizer\n",
    "    cv = CountVectorizer(preprocessor=better_better_preprocessor)\n",
    "    cv_fit_train = cv.fit_transform(train_data)\n",
    "    cv_fit_test = cv.transform(test_data)\n",
    "    \n",
    "    # Train LR using tfidf\n",
    "    LR1 = LogisticRegression(C = 100, solver = \"liblinear\", multi_class = \"auto\")\n",
    "    LR1_fit = LR1.fit(tfidf_fit_train, train_labels)\n",
    "    LR1_predict = LR1.predict(tfidf_fit_test)\n",
    "    LR1_f1 = metrics.f1_score(test_labels, LR1_predict, average = \"weighted\")\n",
    "    \n",
    "    # Train LR using standard countvectorizer\n",
    "    LR2 = LogisticRegression(C = 100, solver = \"liblinear\", multi_class = \"auto\")\n",
    "    LR2_fit = LR2.fit(cv_fit_train, train_labels)\n",
    "    LR2_predict = LR2.predict(cv_fit_test)\n",
    "    LR2_f1 = metrics.f1_score(test_labels, LR2_predict, average = \"weighted\")\n",
    "    \n",
    "    # Calculate top 3 probabilities\n",
    "    LR1_pred = LR1.predict_proba(tfidf_fit_test)\n",
    "    \n",
    "    position_list = []\n",
    "    for row in LR1_pred:\n",
    "        position_list.append(np.argmax(row))\n",
    "        \n",
    "    ratio_list = []\n",
    "    for index, label in enumerate(position_list):\n",
    "        if label == test_labels[index]:\n",
    "            ratio_list.append(np.max(LR1_pred[index])/LR1_pred[index][label])\n",
    "        else:\n",
    "            ratio_list.append(np.max(LR1_pred[index]/LR1_pred[index][test_labels[index]]))\n",
    "            \n",
    "    indices = list((-np.array(ratio_list)).argsort()[:3])\n",
    "    \n",
    "    # Print \n",
    "    print(\"Comparison of Model Performance\")\n",
    "    print(\"---------------------------------------------------------------------------------------------------\")\n",
    "    print(\"The f1 score of the logistic regression model using the Tfidf vectorized training dataset is: {}\".format(round(LR1_f1, 3)))\n",
    "    print(\"The f1 score of the logistic regression model using the count vectorized training dataset is: {}\".format(round(LR2_f1, 3)))\n",
    "    print(\"---------------------------------------------------------------------------------------------------\")\n",
    "    print(\"\")\n",
    "    print(\"\")\n",
    "    print(\"Documents with the 3 Largest R-Ratios\")\n",
    "    print(\"\")\n",
    "    for index, value in enumerate(indices):\n",
    "        print(\"Example {}\".format(index + 1))\n",
    "        print(\"---------------------------------------------------------------------------------------------------\")\n",
    "        print(\"The predicted label: {}\".format(newsgroups_train.target_names[position_list[value]]))\n",
    "        print(\"The real label: {}\".format(newsgroups_train.target_names[test_labels[value]]))\n",
    "        print(\"The R-ratio: {}\".format(round(ratio_list[value], 3)))\n",
    "        print(\"---------------------------------------------------------------------------------------------------\")\n",
    "        print(\"The message:\")\n",
    "        print(test_data[value])\n",
    "        print(\"\")\n",
    "        \n",
    "    return "
   ]
  },
  {
   "cell_type": "code",
   "execution_count": 160,
   "metadata": {},
   "outputs": [
    {
     "name": "stdout",
     "output_type": "stream",
     "text": [
      "Comparison of Model Performance\n",
      "---------------------------------------------------------------------------------------------------\n",
      "The f1 score of the logistic regression model using the Tfidf vectorized training dataset is: 0.766\n",
      "The f1 score of the logistic regression model using the count vectorized training dataset is: 0.685\n",
      "---------------------------------------------------------------------------------------------------\n",
      "\n",
      "\n",
      "Documents with the 3 Largest R-Ratios\n",
      "\n",
      "Example 1\n",
      "---------------------------------------------------------------------------------------------------\n",
      "The predicted label: comp.graphics\n",
      "The real label: talk.religion.misc\n",
      "The R-ratio: 1143.613\n",
      "---------------------------------------------------------------------------------------------------\n",
      "The message:\n",
      "I am pleased to announce that a *revised version* of _The Easy-to-Read Book\n",
      "of Mormon_ (former title: _Mormon's Book_) by Lynn Matthews Anderson is now\n",
      "available through anonymous ftp (see information below). In addition to the\n",
      "change in title, the revised ETR BOM has been shortened by several pages\n",
      "(eliminating many extraneous \"that's\" and \"of's\"), and many (minor) errors\n",
      "have been corrected. This release includes a simplified Joseph Smith Story,\n",
      "testimonies of the three and eight witnesses, and a \"Words-to-Know\"\n",
      "glossary.\n",
      "\n",
      "As with the previous announcement, readers are reminded that this is a\n",
      "not-for-profit endeavor. This is a copyrighted work, but people are welcome\n",
      "to make *verbatim* copies for personal use. People can recuperate the\n",
      "actual costs of printing (paper, copy center charges), but may not charge\n",
      "anything for their time in making copies, or in any way realize a profit\n",
      "from the use of this book. See the permissions notice in the book itself\n",
      "for the precise terms.\n",
      "\n",
      "Negotiations are currently underway with a Mormon publisher vis-a-vis the\n",
      "printing and distribution of bound books. (Sorry, I'm out of the wire-bound\n",
      "\"first editions.\") I will make another announcement about the availability\n",
      "of printed copies once everything has been worked out.\n",
      "\n",
      "FTP information: connect via anonymous ftp to carnot.itc.cmu.edu, then \"cd\n",
      "pub\" (you won't see anything at all until you do).\n",
      "\n",
      "\"The Easy-to-Read Book of Mormon\" is currently available in postscript and\n",
      "RTF (rich text format). (ASCII, LaTeX, and other versions can be made\n",
      "available; contact dba@andrew.cmu.edu for details.) You should be able to\n",
      "print the postscript file on any postscript printer (such as an Apple\n",
      "Laserwriter); let dba know if you have any difficulties. (The postscript in\n",
      "the last release had problems on some printers; this time it should work\n",
      "better.) RTF is a standard document interchange format that can be read in\n",
      "by a number of word processors, including Microsoft Word for both the\n",
      "Macintosh and Windows. If you don't have a postscript printer, you may be\n",
      "able to use the RTF file to print out a copy of the book.\n",
      "\n",
      "-r--r--r--  1 dba                   1984742 Apr 27 13:12 etrbom.ps\n",
      "-r--r--r--  1 dba                   1209071 Apr 27 13:13 etrbom.rtf\n",
      "\n",
      "For more information about how this project came about, please refer to my\n",
      "article in the current issue of _Sunstone_, entitled \"Delighting in\n",
      "Plainness: Issues Surrounding a Simple Modern English Book of Mormon.\"\n",
      "\n",
      "Send all inquiries and comments to:\n",
      "\n",
      "    Lynn Matthews Anderson\n",
      "    5806 Hampton Street\n",
      "    Pittsburgh, PA 15206\n",
      "\n",
      "Example 2\n",
      "---------------------------------------------------------------------------------------------------\n",
      "The predicted label: sci.space\n",
      "The real label: alt.atheism\n",
      "The R-ratio: 236.956\n",
      "---------------------------------------------------------------------------------------------------\n",
      "The message:\n",
      "\n",
      "The 24 children were, of course, killed by a lone gunman in a second story\n",
      "window, who fired eight bullets in the space of two seconds...\n",
      "\n",
      "\n",
      "Example 3\n",
      "---------------------------------------------------------------------------------------------------\n",
      "The predicted label: alt.atheism\n",
      "The real label: talk.religion.misc\n",
      "The R-ratio: 104.939\n",
      "---------------------------------------------------------------------------------------------------\n",
      "The message:\n",
      "Why is the NT tossed out as info on Jesus.  I realize it is normally tossed\n",
      "out because it contains miracles, but what are the other reasons?\n",
      "\n",
      "MAC\n",
      "--\n",
      "****************************************************************\n",
      "                                                    Michael A. Cobb\n",
      " \"...and I won't raise taxes on the middle     University of Illinois\n",
      "    class to pay for my programs.\"                 Champaign-Urbana\n",
      "          -Bill Clinton 3rd Debate             cobb@alexia.lis.uiuc.edu\n",
      "\n"
     ]
    }
   ],
   "source": [
    "P8(train_data, train_labels, dev_data, dev_labels)"
   ]
  },
  {
   "cell_type": "markdown",
   "metadata": {},
   "source": [
    "ANSWER:\n",
    "\n",
    "As we can see here the performance of the two models has improved marginally by utilizing a preprocessor for both the vectorizers. Nevertheless, the first two examples are still wrong - with the model performing even worse on the first one, but better on the second. Example 3 is an entirely new one. As there second two examples are rleated to atheism and religion it seems that there are common keywords here that would require identification and removal (this makes sense as the two topics are very related)."
   ]
  }
 ],
 "metadata": {
  "colab": {
   "collapsed_sections": [],
   "name": "firstname_lastname_p2.ipynb",
   "private_outputs": true,
   "provenance": [
    {
     "file_id": "https://github.com/MIDS-W207/Master/blob/master/Projects/firstname_lastname_p2.ipynb",
     "timestamp": 1559779272103
    }
   ],
   "version": "0.3.2"
  },
  "kernelspec": {
   "display_name": "Python 3",
   "language": "python",
   "name": "python3"
  },
  "language_info": {
   "codemirror_mode": {
    "name": "ipython",
    "version": 3
   },
   "file_extension": ".py",
   "mimetype": "text/x-python",
   "name": "python",
   "nbconvert_exporter": "python",
   "pygments_lexer": "ipython3",
   "version": "3.7.7"
  },
  "toc": {
   "base_numbering": 1,
   "nav_menu": {},
   "number_sections": false,
   "sideBar": true,
   "skip_h1_title": true,
   "title_cell": "Table of Contents",
   "title_sidebar": "Contents",
   "toc_cell": false,
   "toc_position": {},
   "toc_section_display": true,
   "toc_window_display": false
  }
 },
 "nbformat": 4,
 "nbformat_minor": 1
}
